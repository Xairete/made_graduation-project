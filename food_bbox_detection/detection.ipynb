{
 "cells": [
  {
   "cell_type": "code",
   "execution_count": 18,
   "metadata": {},
   "outputs": [],
   "source": [
    "from PIL import Image\n",
    "import torch\n",
    "import torch.nn as nn\n",
    "import torch.optim as optim\n",
    "from torch.utils import data\n",
    "\n",
    "import torch.nn.functional as F\n",
    "import torchvision\n",
    "import torchvision.models as models\n",
    "from torchvision import transforms\n",
    "\n",
    "import matplotlib.pyplot as plt\n",
    "import numpy as np\n",
    "from PIL import Image\n",
    "import cv2\n",
    "\n",
    "import seaborn as sns\n",
    "import torchvision\n",
    "from torchvision.models.detection.faster_rcnn import FastRCNNPredictor"
   ]
  },
  {
   "cell_type": "code",
   "execution_count": 19,
   "metadata": {},
   "outputs": [],
   "source": [
    "def create_model(device):\n",
    "    model = torchvision.models.detection.fasterrcnn_resnet50_fpn(pretrained=False)\n",
    "    num_classes = 2  # 1 class + background\n",
    "    in_features = model.roi_heads.box_predictor.cls_score.in_features\n",
    "    model.roi_heads.box_predictor = FastRCNNPredictor(in_features, num_classes)\n",
    "    return model.to(device)\n",
    "\n",
    "transformations= transforms.Compose([\n",
    "    transforms.ToTensor(),\n",
    "    transforms.Normalize(mean=[0.485, 0.456, 0.406], std=[0.229, 0.224, 0.225])])\n",
    "\n",
    "def show_image(pred):\n",
    "    filename = pred['file']\n",
    "    image = cv2.imread(filename, cv2.COLOR_BGR2RGB)\n",
    "    palette = sns.color_palette(None, 2)\n",
    "    color = palette[1]\n",
    "    for bbox in pred['bboxes']:\n",
    "        image = cv2.rectangle(image, (bbox[0], bbox[1]), (bbox[2], bbox[3]), np.array(color) * 255, 2)\n",
    "    \n",
    "    cv2.imshow(\"test\", image)\n",
    "    cv2.waitKey(0)\n",
    "    cv2.destroyAllWindows()\n"
   ]
  },
  {
   "cell_type": "code",
   "execution_count": 20,
   "metadata": {},
   "outputs": [
    {
     "name": "stderr",
     "output_type": "stream",
     "text": [
      "Downloading: \"https://download.pytorch.org/models/resnet50-19c8e357.pth\" to C:\\Users\\flash/.cache\\torch\\hub\\checkpoints\\resnet50-19c8e357.pth\n"
     ]
    },
    {
     "data": {
      "application/vnd.jupyter.widget-view+json": {
       "model_id": "df0a72a79677435bb38a69256302c3cb",
       "version_major": 2,
       "version_minor": 0
      },
      "text/plain": [
       "HBox(children=(FloatProgress(value=0.0, max=102502400.0), HTML(value='')))"
      ]
     },
     "metadata": {},
     "output_type": "display_data"
    },
    {
     "name": "stdout",
     "output_type": "stream",
     "text": [
      "\n"
     ]
    },
    {
     "data": {
      "text/plain": [
       "<All keys matched successfully>"
      ]
     },
     "execution_count": 20,
     "metadata": {},
     "output_type": "execute_result"
    }
   ],
   "source": [
    "DETECTOR_MODEL_PATH = './models/detection_model.pt'\n",
    "\n",
    "\n",
    "device = torch.device('cuda') if torch.cuda.is_available() else torch.device('cpu')\n",
    "model = create_model(device)\n",
    "model.load_state_dict(torch.load(DETECTOR_MODEL_PATH, map_location=torch.device('cpu')))"
   ]
  },
  {
   "cell_type": "code",
   "execution_count": 124,
   "metadata": {},
   "outputs": [],
   "source": [
    "def postprocess_bbxes(pred):\n",
    "    bbox_matrices = []\n",
    "    filtered_pred = {'file': pred['file'], 'bboxes':[]}\n",
    "    for bbox in pred['bboxes']:\n",
    "        matrix_set = set()\n",
    "        for x in range(bbox[0], bbox[2]):\n",
    "            for y in range(bbox[1], bbox[3]):\n",
    "                matrix_set.add((x, y))\n",
    "        bbox_matrices.append(matrix_set)\n",
    "        \n",
    "    for i in range(len(bbox_matrices)):\n",
    "        current_matrix = bbox_matrices[i]\n",
    "        is_max_contour = False\n",
    "        for j in range(len(bbox_matrices)):\n",
    "            compared_matrix = bbox_matrices[j]\n",
    "            if (len(current_matrix) > len(compared_matrix)) and (len(current_matrix & compared_matrix)/len(compared_matrix) > 0.7):\n",
    "                is_max_contour = True\n",
    "                \n",
    "        if not(is_max_contour):\n",
    "            filtered_pred['bboxes'].append(pred['bboxes'][i])\n",
    "            \n",
    "    return(filtered_pred)"
   ]
  },
  {
   "cell_type": "code",
   "execution_count": 125,
   "metadata": {},
   "outputs": [],
   "source": [
    "preds = []\n",
    "THRESHOLD_SCORE = 0.6\n",
    "model.eval()\n",
    "filename = './datasets/food/1_3317.png'\n",
    "img = Image.open(filename)\n",
    "\n",
    "img_tensor = transformations(img)\n",
    "\n",
    "with torch.no_grad():\n",
    "    predictions = model([img_tensor.to(device)])\n",
    "prediction = predictions[0]\n",
    "\n",
    "pred = dict()\n",
    "pred['file'] = filename\n",
    "pred['bboxes'] = []\n",
    "\n",
    "for i in range(len(prediction['boxes'])):\n",
    "    x_min, y_min, x_max, y_max = map(int, prediction['boxes'][i].tolist())\n",
    "    label = int(prediction['labels'][i].cpu())\n",
    "    score = float(prediction['scores'][i].cpu())\n",
    "    if score > THRESHOLD_SCORE:      \n",
    "        pred['bboxes'].append([x_min, y_min, x_max, y_max])\n",
    "        \n",
    "postprocessed_pred = postprocess_bbxes(pred)    \n",
    "\n",
    "preds.append(postprocessed_pred)        \n",
    "show_image(postprocessed_pred)"
   ]
  },
  {
   "cell_type": "code",
   "execution_count": null,
   "metadata": {},
   "outputs": [],
   "source": []
  }
 ],
 "metadata": {
  "kernelspec": {
   "display_name": "Python 3",
   "language": "python",
   "name": "python3"
  },
  "language_info": {
   "codemirror_mode": {
    "name": "ipython",
    "version": 3
   },
   "file_extension": ".py",
   "mimetype": "text/x-python",
   "name": "python",
   "nbconvert_exporter": "python",
   "pygments_lexer": "ipython3",
   "version": "3.8.3"
  }
 },
 "nbformat": 4,
 "nbformat_minor": 4
}
