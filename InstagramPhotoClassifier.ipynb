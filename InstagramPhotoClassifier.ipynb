{
 "cells": [
  {
   "cell_type": "code",
   "execution_count": 18,
   "metadata": {},
   "outputs": [],
   "source": [
    "from instagram import Account, Media, WebAgent #взять отсюда https://github.com/OlegYurchik/pyInstagram\n",
    "import torch\n",
    "import torchvision\n",
    "import torchvision.models as models\n",
    "import torch.nn as nn\n",
    "from torchvision import transforms"
   ]
  },
  {
   "cell_type": "code",
   "execution_count": 42,
   "metadata": {},
   "outputs": [],
   "source": [
    "MAX_COUNT = 20 #сколько максимальо фоток мы хотим загрузить\n",
    "accountName = \"mama_na_kuxne\" #название аккаунта\n",
    "\n",
    "agent = WebAgent()\n",
    "account = Account(accountName)\n",
    "\n",
    "link_list = []\n",
    "pointer = None\n",
    "\n",
    "media, pointer = agent.get_media(account, count = MAX_COUNT) \n",
    "for med in media:\n",
    "    try:\n",
    "        link_list.append(med.resources[0])\n",
    "    except Exception:\n",
    "        continue\n"
   ]
  },
  {
   "cell_type": "code",
   "execution_count": 43,
   "metadata": {},
   "outputs": [
    {
     "name": "stderr",
     "output_type": "stream",
     "text": [
      "Using cache found in C:\\Users\\flash/.cache\\torch\\hub\\pytorch_vision_master\n"
     ]
    }
   ],
   "source": [
    "img_dimensions = 224\n",
    "\n",
    "img_transforms = transforms.Compose([\n",
    "    transforms.Resize((img_dimensions, img_dimensions)),\n",
    "    transforms.ToTensor(),\n",
    "    transforms.Normalize(mean=[0.485, 0.456, 0.406],std=[0.229, 0.224, 0.225] )\n",
    "    ])\n",
    "\n",
    "resnet_loaded = torch.hub.load('pytorch/vision', 'resnet18')\n",
    "resnet_loaded.fc = nn.Sequential(nn.Linear(resnet_loaded.fc.in_features,512),nn.ReLU(), nn.Dropout(), nn.Linear(512, 2))\n",
    "resnet_loaded.load_state_dict(torch.load('./models/resnet18.pth', map_location=torch.device('cpu')))\n",
    "resnet_loaded.eval()\n",
    "\n",
    "if torch.cuda.is_available():\n",
    "    device = torch.device(\"cuda\") \n",
    "else:\n",
    "    device = torch.device(\"cpu\")"
   ]
  },
  {
   "cell_type": "code",
   "execution_count": 44,
   "metadata": {},
   "outputs": [
    {
     "name": "stdout",
     "output_type": "stream",
     "text": [
      "https://instagram.fhel4-1.fna.fbcdn.net/v/t51.2885-15/e35/s150x150/123228945_3329629723802191_5889572144787479607_n.jpg?_nc_ht=instagram.fhel4-1.fna.fbcdn.net&_nc_cat=107&_nc_ohc=YTu7hzrhbqIAX8MNUAe&tp=15&oh=e59dbeae8445b6e39d3d15caef11f78b&oe=5FB682CE\n",
      "https://instagram.fhel4-1.fna.fbcdn.net/v/t51.2885-15/e35/c0.180.1440.1440a/s150x150/122828130_1004110713391430_4407864791860020883_n.jpg?_nc_ht=instagram.fhel4-1.fna.fbcdn.net&_nc_cat=102&_nc_ohc=_zYGolUh2JIAX97OJei&tp=16&oh=9736c8cf8809559542a3688ffbf1eb79&oe=5FDE8B60\n",
      "https://instagram.fhel4-1.fna.fbcdn.net/v/t51.2885-15/e35/p150x150/122724098_682436929051109_9081446399525587438_n.jpg?_nc_ht=instagram.fhel4-1.fna.fbcdn.net&_nc_cat=105&_nc_ohc=XsaOxaSbl0wAX8CTj3s&tp=19&oh=87e3bf41bb6f15142da63b1d131efd9a&oe=5FB64F02\n",
      "https://instagram.fhel4-1.fna.fbcdn.net/v/t51.2885-15/e35/s150x150/118201582_154040039654066_1311475974897409879_n.jpg?_nc_ht=instagram.fhel4-1.fna.fbcdn.net&_nc_cat=102&_nc_ohc=gA0B5Kp9PFoAX9DPTwi&tp=15&oh=7a56e069fc94ac98404b77aa4e5a6b25&oe=5FDF8104\n",
      "https://instagram.fhel4-1.fna.fbcdn.net/v/t51.2885-15/e35/s150x150/116792853_344205793259466_3577752871277580757_n.jpg?_nc_ht=instagram.fhel4-1.fna.fbcdn.net&_nc_cat=106&_nc_ohc=CZw6nVGPsFgAX_JS8w3&tp=15&oh=6e5898bcd39b52206602ed5a81e83e69&oe=5FB65730\n",
      "https://instagram.fhel4-1.fna.fbcdn.net/v/t51.2885-15/e35/c0.90.720.720a/s150x150/116355926_926970284436296_428904718365497166_n.jpg?_nc_ht=instagram.fhel4-1.fna.fbcdn.net&_nc_cat=108&_nc_ohc=ehICXyuOSUAAX8rbbr-&tp=16&oh=cc99139ff059ac9249f422f9fa3ac680&oe=5FB61A55\n",
      "https://instagram.fhel4-1.fna.fbcdn.net/v/t51.2885-15/sh0.08/e35/s640x640/109243191_2638918709759075_7832316952427110916_n.jpg?_nc_ht=instagram.fhel4-1.fna.fbcdn.net&_nc_cat=111&_nc_ohc=zBS3UXBv9csAX_yiLwH&_nc_tp=24&oh=eaff4fa21d292d93c37d71b1f15d5243&oe=5FDBF819\n",
      "https://instagram.fhel4-1.fna.fbcdn.net/v/t51.2885-15/sh0.08/e35/s640x640/106709537_738881396864102_660696297412968500_n.jpg?_nc_ht=instagram.fhel4-1.fna.fbcdn.net&_nc_cat=102&_nc_ohc=QRubAvmoHH4AX8G5eGP&_nc_tp=24&oh=73c3ef4989da831ee2dbc769060b2e20&oe=5FB6ADCE\n",
      "https://instagram.fhel4-1.fna.fbcdn.net/v/t51.2885-15/sh0.08/e35/s640x640/106180582_287820395916713_8656784639401254818_n.jpg?_nc_ht=instagram.fhel4-1.fna.fbcdn.net&_nc_cat=105&_nc_ohc=zCypItBT8CEAX8f2E9u&_nc_tp=24&oh=3317cac36f53060e518f0eda7d502064&oe=5FDF2475\n",
      "https://instagram.fhel4-1.fna.fbcdn.net/v/t51.2885-15/sh0.08/e35/s640x640/105941705_400900864138666_6487727662190541926_n.jpg?_nc_ht=instagram.fhel4-1.fna.fbcdn.net&_nc_cat=110&_nc_ohc=WHIIvw4w7F8AX_EdW_W&tp=24&oh=7bab4ac74fc49370b0ec47cfb268586d&oe=5FB649D6\n"
     ]
    }
   ],
   "source": [
    "import requests\n",
    "from PIL import Image\n",
    "from io import BytesIO\n",
    "\n",
    "img_list = [] #здесь будут храниться PIL-image фотографий еды\n",
    "food_link_list = []\n",
    "for link in link_list:\n",
    "    try:\n",
    "        response = requests.get(link, stream=True)\n",
    "        img = Image.open(BytesIO(response.content))\n",
    "        img = img_transforms(img)\n",
    "        img = img.unsqueeze(0)\n",
    "        resnet_loaded.to(device)\n",
    "        prediction = resnet_loaded(img.to(device))\n",
    "        prediction = prediction.argmax()\n",
    "        if (prediction == 1):\n",
    "            img_list.append(img)\n",
    "            food_link_list.append(link)\n",
    "            print(link)\n",
    "        del response\n",
    "    except Exception:\n",
    "        continue"
   ]
  },
  {
   "cell_type": "code",
   "execution_count": null,
   "metadata": {},
   "outputs": [],
   "source": []
  }
 ],
 "metadata": {
  "kernelspec": {
   "display_name": "Python 3",
   "language": "python",
   "name": "python3"
  },
  "language_info": {
   "codemirror_mode": {
    "name": "ipython",
    "version": 3
   },
   "file_extension": ".py",
   "mimetype": "text/x-python",
   "name": "python",
   "nbconvert_exporter": "python",
   "pygments_lexer": "ipython3",
   "version": "3.8.3"
  }
 },
 "nbformat": 4,
 "nbformat_minor": 4
}
