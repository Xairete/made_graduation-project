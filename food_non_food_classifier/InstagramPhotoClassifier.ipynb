{
 "cells": [
  {
   "cell_type": "code",
   "execution_count": 1,
   "metadata": {},
   "outputs": [],
   "source": [
    "from instagram import Account, Media, WebAgent #взять отсюда https://github.com/OlegYurchik/pyInstagram\n",
    "import torch\n",
    "import torchvision\n",
    "import torchvision.models as models\n",
    "import torch.nn as nn\n",
    "from torchvision import transforms"
   ]
  },
  {
   "cell_type": "code",
   "execution_count": 3,
   "metadata": {},
   "outputs": [],
   "source": [
    "MAX_COUNT = 20 #сколько максимальо фоток мы хотим загрузить\n",
    "accountName = \"mama_na_kuxne\" #название аккаунта\n",
    "\n",
    "agent = WebAgent()\n",
    "account = Account(accountName)\n",
    "\n",
    "link_list = []\n",
    "pointer = None\n",
    "\n",
    "media, pointer = agent.get_media(account, count = MAX_COUNT) \n",
    "for med in media:\n",
    "    try:\n",
    "        link_list.append(med.resources[0])\n",
    "    except Exception:\n",
    "        continue"
   ]
  },
  {
   "cell_type": "code",
   "execution_count": 4,
   "metadata": {},
   "outputs": [
    {
     "name": "stderr",
     "output_type": "stream",
     "text": [
      "Downloading: \"https://github.com/pytorch/vision/archive/master.zip\" to /Users/yury/.cache/torch/hub/master.zip\n"
     ]
    }
   ],
   "source": [
    "img_dimensions = 224\n",
    "\n",
    "img_transforms = transforms.Compose([\n",
    "    transforms.Resize((img_dimensions, img_dimensions)),\n",
    "    transforms.ToTensor(),\n",
    "    transforms.Normalize(mean=[0.485, 0.456, 0.406],std=[0.229, 0.224, 0.225] )\n",
    "    ])\n",
    "\n",
    "resnet_loaded = torch.hub.load('pytorch/vision', 'resnet18')\n",
    "resnet_loaded.fc = nn.Sequential(nn.Linear(resnet_loaded.fc.in_features,512),nn.ReLU(), nn.Dropout(), nn.Linear(512, 2))\n",
    "resnet_loaded.load_state_dict(torch.load('./models/resnet18.pth', map_location=torch.device('cpu')))\n",
    "resnet_loaded.eval()\n",
    "\n",
    "if torch.cuda.is_available():\n",
    "    device = torch.device(\"cuda\") \n",
    "else:\n",
    "    device = torch.device(\"cpu\")"
   ]
  },
  {
   "cell_type": "code",
   "execution_count": 11,
   "metadata": {
    "pycharm": {
     "name": "#%%\n"
    }
   },
   "outputs": [
    {
     "name": "stdout",
     "output_type": "stream",
     "text": [
      "https://instagram.fhrk1-1.fna.fbcdn.net/v/t51.2885-15/e35/c0.180.1440.1440a/s150x150/126336206_865236640682978_2344174815437822524_n.jpg?_nc_ht=instagram.fhrk1-1.fna.fbcdn.net&_nc_cat=1&_nc_ohc=mN7Mo44F0coAX-9mGE7&tp=1&oh=0bd85eab4d3f02c10d259ee93754758e&oe=5FE35293\n",
      "https://instagram.fhrk1-1.fna.fbcdn.net/v/t51.2885-15/e35/s150x150/123228945_3329629723802191_5889572144787479607_n.jpg?_nc_ht=instagram.fhrk1-1.fna.fbcdn.net&_nc_cat=107&_nc_ohc=XDrzhQWjNS4AX-QJoIk&tp=1&oh=1e3f2e34879915188f2b7717fd4ee524&oe=5FBC718E\n",
      "https://instagram.fhrk1-1.fna.fbcdn.net/v/t51.2885-15/e35/c0.180.1440.1440a/s150x150/122828130_1004110713391430_4407864791860020883_n.jpg?_nc_ht=instagram.fhrk1-1.fna.fbcdn.net&_nc_cat=102&_nc_ohc=DDVY1QuNbQwAX-d38oX&tp=1&oh=cb53a26625707ba0ae2a0a36e89424f1&oe=5FE27FE0\n",
      "https://instagram.fhrk1-1.fna.fbcdn.net/v/t51.2885-15/e35/p150x150/122724098_682436929051109_9081446399525587438_n.jpg?_nc_ht=instagram.fhrk1-1.fna.fbcdn.net&_nc_cat=105&_nc_ohc=3dOtRO-Y2MIAX_jXkXw&tp=1&oh=999116c86f5b0ac7f1ff8ec1d79bb348&oe=5FBCE682\n",
      "https://instagram.fhrk1-1.fna.fbcdn.net/v/t51.2885-15/e35/s150x150/116792853_344205793259466_3577752871277580757_n.jpg?_nc_ht=instagram.fhrk1-1.fna.fbcdn.net&_nc_cat=106&_nc_ohc=ToLUywwk5cgAX8OX-WQ&tp=1&oh=669e08de2056d4f5c52eff03ec473461&oe=5FBCEEB0\n",
      "https://instagram.fhrk1-1.fna.fbcdn.net/v/t51.2885-15/e35/c0.90.720.720a/s150x150/116355926_926970284436296_428904718365497166_n.jpg?_nc_ht=instagram.fhrk1-1.fna.fbcdn.net&_nc_cat=108&_nc_ohc=f2MFEI8b74QAX89e-rX&tp=1&oh=0680bf121900d8a93a1fe35775610e75&oe=5FBCB1D5\n",
      "https://instagram.fhrk1-1.fna.fbcdn.net/v/t51.2885-15/sh0.08/e35/s640x640/109243191_2638918709759075_7832316952427110916_n.jpg?_nc_ht=instagram.fhrk1-1.fna.fbcdn.net&_nc_cat=111&_nc_ohc=lKWqLa-s5scAX_LpID7&tp=1&oh=055bee2f9712e1612322ee53a8cfc177&oe=5FE3E119\n",
      "https://instagram.fhrk1-1.fna.fbcdn.net/v/t51.2885-15/sh0.08/e35/s640x640/106709537_738881396864102_660696297412968500_n.jpg?_nc_ht=instagram.fhrk1-1.fna.fbcdn.net&_nc_cat=102&_nc_ohc=Q5TPvWxLtrgAX_nLWFA&tp=1&oh=521df17f52fa509f5e2581cfeb0a6a28&oe=5FBC9C8E\n",
      "https://instagram.fhrk1-1.fna.fbcdn.net/v/t51.2885-15/sh0.08/e35/s640x640/106180582_287820395916713_8656784639401254818_n.jpg?_nc_ht=instagram.fhrk1-1.fna.fbcdn.net&_nc_cat=105&_nc_ohc=9f_Ca05oFpkAX9dV1bB&tp=1&oh=8b5968118d8bc2e818d08b04bea230b8&oe=5FE318F5\n",
      "https://instagram.fhrk1-1.fna.fbcdn.net/v/t51.2885-15/sh0.08/e35/s640x640/105941705_400900864138666_6487727662190541926_n.jpg?_nc_ht=instagram.fhrk1-1.fna.fbcdn.net&_nc_cat=110&_nc_ohc=L_t5WlsOSvgAX-w7BXl&tp=1&oh=f37c64e95db99a0a3e43435fe61e5c35&oe=5FBCE156\n"
     ]
    }
   ],
   "source": [
    "import requests\n",
    "from PIL import Image\n",
    "from io import BytesIO\n",
    "\n",
    "img_list = [] #здесь будут храниться PIL-image фотографий еды\n",
    "food_link_list = []\n",
    "for link in link_list:\n",
    "    try:\n",
    "        response = requests.get(link, stream=True)\n",
    "        img_pic = Image.open(BytesIO(response.content))\n",
    "        img = img_transforms(img)\n",
    "        img = img.unsqueeze(0)\n",
    "        resnet_loaded.to(device)\n",
    "        prediction = resnet_loaded(img.to(device))\n",
    "        prediction = prediction.argmax()\n",
    "        if (prediction == 1):\n",
    "            img_list.append(img)\n",
    "            food_link_list.append(link)\n",
    "            print(link)\n",
    "        del response\n",
    "    except Exception:\n",
    "        continue\n",
    "\n"
   ]
  }
 ],
 "metadata": {
  "kernelspec": {
   "display_name": "Python 3",
   "language": "python",
   "name": "python3"
  },
  "language_info": {
   "codemirror_mode": {
    "name": "ipython",
    "version": 3
   },
   "file_extension": ".py",
   "mimetype": "text/x-python",
   "name": "python",
   "nbconvert_exporter": "python",
   "pygments_lexer": "ipython3",
   "version": "3.8.3"
  }
 },
 "nbformat": 4,
 "nbformat_minor": 4
}